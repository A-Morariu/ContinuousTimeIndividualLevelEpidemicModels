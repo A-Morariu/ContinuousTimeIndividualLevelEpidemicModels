{
 "cells": [
  {
   "cell_type": "code",
   "execution_count": 1,
   "id": "040e9a55",
   "metadata": {
    "ExecuteTime": {
     "end_time": "2022-07-25T11:35:54.680220Z",
     "start_time": "2022-07-25T11:35:54.676939Z"
    }
   },
   "outputs": [],
   "source": [
    "import sys"
   ]
  },
  {
   "cell_type": "code",
   "execution_count": 7,
   "id": "a58782d7",
   "metadata": {
    "ExecuteTime": {
     "end_time": "2022-07-25T11:37:49.084837Z",
     "start_time": "2022-07-25T11:37:49.081734Z"
    }
   },
   "outputs": [],
   "source": [
    "sys.path.append('/Users/alinmorariu/Documents/GitHub/MCMC')"
   ]
  },
  {
   "cell_type": "code",
   "execution_count": 9,
   "id": "3ffa5014",
   "metadata": {
    "ExecuteTime": {
     "end_time": "2022-07-25T11:37:55.776663Z",
     "start_time": "2022-07-25T11:37:55.771773Z"
    }
   },
   "outputs": [
    {
     "name": "stdout",
     "output_type": "stream",
     "text": [
      "/Users/alinmorariu/Documents/GitHub/ContinuousTimeIndividualLevelEpidemicModels\n",
      "/Users/alinmorariu/opt/anaconda3/lib/python39.zip\n",
      "/Users/alinmorariu/opt/anaconda3/lib/python3.9\n",
      "/Users/alinmorariu/opt/anaconda3/lib/python3.9/lib-dynload\n",
      "\n",
      "/Users/alinmorariu/.local/lib/python3.9/site-packages\n",
      "/Users/alinmorariu/opt/anaconda3/lib/python3.9/site-packages\n",
      "/Users/alinmorariu/opt/anaconda3/lib/python3.9/site-packages/aeosa\n",
      "/Users/alinmorariu/opt/anaconda3/lib/python3.9/site-packages/locket-0.2.1-py3.9.egg\n",
      "/Users/alinmorariu/opt/anaconda3/lib/python3.9/site-packages/IPython/extensions\n",
      "/Users/alinmorariu/.ipython\n",
      "/MCMC/\n",
      "/MCMC/\n",
      "/Users/alinmorariu/Documents/GitHub/MCMC\n"
     ]
    }
   ],
   "source": [
    "for p in sys.path:\n",
    "    print(p)"
   ]
  },
  {
   "cell_type": "code",
   "execution_count": 10,
   "id": "17a9c5a0",
   "metadata": {
    "ExecuteTime": {
     "end_time": "2022-07-25T11:38:14.721733Z",
     "start_time": "2022-07-25T11:38:08.030632Z"
    }
   },
   "outputs": [
    {
     "name": "stderr",
     "output_type": "stream",
     "text": [
      "2022-07-25 12:38:14.315887: I tensorflow/core/platform/cpu_feature_guard.cc:151] This TensorFlow binary is optimized with oneAPI Deep Neural Network Library (oneDNN) to use the following CPU instructions in performance-critical operations:  AVX2 FMA\n",
      "To enable them in other operations, rebuild TensorFlow with the appropriate compiler flags.\n"
     ]
    },
    {
     "ename": "TypeError",
     "evalue": "__init__() missing 3 required positional arguments: 'incidence_matrix', 'initial_state', and 'transition_rate_fn'",
     "output_type": "error",
     "traceback": [
      "\u001b[0;31m---------------------------------------------------------------------------\u001b[0m",
      "\u001b[0;31mTypeError\u001b[0m                                 Traceback (most recent call last)",
      "\u001b[0;32m/var/folders/_q/07k1y14x087brt3tmd2bs1740000gn/T/ipykernel_78008/51969958.py\u001b[0m in \u001b[0;36m<module>\u001b[0;34m\u001b[0m\n\u001b[0;32m----> 1\u001b[0;31m \u001b[0;32mimport\u001b[0m \u001b[0mCenteredEpidemicModelMCMC\u001b[0m\u001b[0;34m\u001b[0m\u001b[0;34m\u001b[0m\u001b[0m\n\u001b[0m",
      "\u001b[0;32m~/Documents/GitHub/MCMC/CenteredEpidemicModelMCMC.py\u001b[0m in \u001b[0;36m<module>\u001b[0;34m\u001b[0m\n\u001b[1;32m     12\u001b[0m \u001b[0;34m\u001b[0m\u001b[0m\n\u001b[1;32m     13\u001b[0m \u001b[0;31m# Simulate an epidemic\u001b[0m\u001b[0;34m\u001b[0m\u001b[0;34m\u001b[0m\u001b[0m\n\u001b[0;32m---> 14\u001b[0;31m \u001b[0mepi_sim\u001b[0m\u001b[0;34m.\u001b[0m\u001b[0mContinuousTimeStateTransitionModelSimulation\u001b[0m\u001b[0;34m(\u001b[0m\u001b[0;34m)\u001b[0m\u001b[0;34m\u001b[0m\u001b[0;34m\u001b[0m\u001b[0m\n\u001b[0m",
      "\u001b[0;31mTypeError\u001b[0m: __init__() missing 3 required positional arguments: 'incidence_matrix', 'initial_state', and 'transition_rate_fn'"
     ]
    }
   ],
   "source": [
    "import CenteredEpidemicModelMCMC"
   ]
  }
 ],
 "metadata": {
  "kernelspec": {
   "display_name": "Python 3 (ipykernel)",
   "language": "python",
   "name": "python3"
  },
  "language_info": {
   "codemirror_mode": {
    "name": "ipython",
    "version": 3
   },
   "file_extension": ".py",
   "mimetype": "text/x-python",
   "name": "python",
   "nbconvert_exporter": "python",
   "pygments_lexer": "ipython3",
   "version": "3.9.7"
  },
  "toc": {
   "base_numbering": 1,
   "nav_menu": {},
   "number_sections": true,
   "sideBar": true,
   "skip_h1_title": false,
   "title_cell": "Table of Contents",
   "title_sidebar": "Contents",
   "toc_cell": false,
   "toc_position": {},
   "toc_section_display": true,
   "toc_window_display": false
  },
  "varInspector": {
   "cols": {
    "lenName": 16,
    "lenType": 16,
    "lenVar": 40
   },
   "kernels_config": {
    "python": {
     "delete_cmd_postfix": "",
     "delete_cmd_prefix": "del ",
     "library": "var_list.py",
     "varRefreshCmd": "print(var_dic_list())"
    },
    "r": {
     "delete_cmd_postfix": ") ",
     "delete_cmd_prefix": "rm(",
     "library": "var_list.r",
     "varRefreshCmd": "cat(var_dic_list()) "
    }
   },
   "types_to_exclude": [
    "module",
    "function",
    "builtin_function_or_method",
    "instance",
    "_Feature"
   ],
   "window_display": false
  }
 },
 "nbformat": 4,
 "nbformat_minor": 5
}
